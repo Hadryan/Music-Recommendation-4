{
  "nbformat": 4,
  "nbformat_minor": 0,
  "metadata": {
    "colab": {
      "name": "Music recommendation system.ipynb",
      "provenance": [],
      "collapsed_sections": []
    },
    "kernelspec": {
      "name": "python3",
      "display_name": "Python 3"
    },
    "accelerator": "GPU"
  },
  "cells": [
    {
      "cell_type": "code",
      "metadata": {
        "id": "lL2HzZVpnc-W"
      },
      "source": [
        "#Loading the dataset\n",
        "songs_metadata_file = 'https://static.turi.com/datasets/millionsong/song_data.csv'\n",
        "#Userid-songid-listen__count\n",
        "triplets_file = 'https://static.turi.com/datasets/millionsong/10000.txt'\n",
        "\n"
      ],
      "execution_count": 47,
      "outputs": []
    },
    {
      "cell_type": "code",
      "metadata": {
        "id": "FSuMnhh5cRMb"
      },
      "source": [
        "#Importing the dependencies\n",
        "import pandas as pd\n",
        "from sklearn.model_selection import train_test_split\n",
        "import numpy as np\n",
        "import time\n",
        "from sklearn.externals import joblib\n",
        "import Recommenders as Recommenders\n",
        "import Evaluation as Evaluation\n"
      ],
      "execution_count": 48,
      "outputs": []
    },
    {
      "cell_type": "code",
      "metadata": {
        "id": "kNLX5Etk4TKo"
      },
      "source": [
        "song_df1 = pd.read_table(triplets_file, header = None)\n",
        "song_df1.columns = ['user_id', 'song_id', 'listen_count']\n",
        "\n",
        "#reading song metadata\n",
        "song_df2 = pd.read_csv(songs_metadata_file)\n",
        "\n",
        "#Merging the two dataframes to create the input for our sys\n",
        "song_df = pd.merge(song_df1, song_df2.drop_duplicates(['song_id']),\n",
        "                   on = 'song_id', how = 'left')"
      ],
      "execution_count": 49,
      "outputs": []
    },
    {
      "cell_type": "code",
      "metadata": {
        "colab": {
          "base_uri": "https://localhost:8080/",
          "height": 360
        },
        "id": "6M-8PZgX9_L2",
        "outputId": "558e9ba7-0c7f-434b-fca1-08bdd602fd8e"
      },
      "source": [
        "#Exploring the data\n",
        "song_df.head()"
      ],
      "execution_count": 50,
      "outputs": [
        {
          "output_type": "execute_result",
          "data": {
            "text/html": [
              "<div>\n",
              "<style scoped>\n",
              "    .dataframe tbody tr th:only-of-type {\n",
              "        vertical-align: middle;\n",
              "    }\n",
              "\n",
              "    .dataframe tbody tr th {\n",
              "        vertical-align: top;\n",
              "    }\n",
              "\n",
              "    .dataframe thead th {\n",
              "        text-align: right;\n",
              "    }\n",
              "</style>\n",
              "<table border=\"1\" class=\"dataframe\">\n",
              "  <thead>\n",
              "    <tr style=\"text-align: right;\">\n",
              "      <th></th>\n",
              "      <th>user_id</th>\n",
              "      <th>song_id</th>\n",
              "      <th>listen_count</th>\n",
              "      <th>title</th>\n",
              "      <th>release</th>\n",
              "      <th>artist_name</th>\n",
              "      <th>year</th>\n",
              "    </tr>\n",
              "  </thead>\n",
              "  <tbody>\n",
              "    <tr>\n",
              "      <th>0</th>\n",
              "      <td>b80344d063b5ccb3212f76538f3d9e43d87dca9e</td>\n",
              "      <td>SOAKIMP12A8C130995</td>\n",
              "      <td>1</td>\n",
              "      <td>The Cove</td>\n",
              "      <td>Thicker Than Water</td>\n",
              "      <td>Jack Johnson</td>\n",
              "      <td>0</td>\n",
              "    </tr>\n",
              "    <tr>\n",
              "      <th>1</th>\n",
              "      <td>b80344d063b5ccb3212f76538f3d9e43d87dca9e</td>\n",
              "      <td>SOBBMDR12A8C13253B</td>\n",
              "      <td>2</td>\n",
              "      <td>Entre Dos Aguas</td>\n",
              "      <td>Flamenco Para Niños</td>\n",
              "      <td>Paco De Lucia</td>\n",
              "      <td>1976</td>\n",
              "    </tr>\n",
              "    <tr>\n",
              "      <th>2</th>\n",
              "      <td>b80344d063b5ccb3212f76538f3d9e43d87dca9e</td>\n",
              "      <td>SOBXHDL12A81C204C0</td>\n",
              "      <td>1</td>\n",
              "      <td>Stronger</td>\n",
              "      <td>Graduation</td>\n",
              "      <td>Kanye West</td>\n",
              "      <td>2007</td>\n",
              "    </tr>\n",
              "    <tr>\n",
              "      <th>3</th>\n",
              "      <td>b80344d063b5ccb3212f76538f3d9e43d87dca9e</td>\n",
              "      <td>SOBYHAJ12A6701BF1D</td>\n",
              "      <td>1</td>\n",
              "      <td>Constellations</td>\n",
              "      <td>In Between Dreams</td>\n",
              "      <td>Jack Johnson</td>\n",
              "      <td>2005</td>\n",
              "    </tr>\n",
              "    <tr>\n",
              "      <th>4</th>\n",
              "      <td>b80344d063b5ccb3212f76538f3d9e43d87dca9e</td>\n",
              "      <td>SODACBL12A8C13C273</td>\n",
              "      <td>1</td>\n",
              "      <td>Learn To Fly</td>\n",
              "      <td>There Is Nothing Left To Lose</td>\n",
              "      <td>Foo Fighters</td>\n",
              "      <td>1999</td>\n",
              "    </tr>\n",
              "  </tbody>\n",
              "</table>\n",
              "</div>"
            ],
            "text/plain": [
              "                                    user_id  ...  year\n",
              "0  b80344d063b5ccb3212f76538f3d9e43d87dca9e  ...     0\n",
              "1  b80344d063b5ccb3212f76538f3d9e43d87dca9e  ...  1976\n",
              "2  b80344d063b5ccb3212f76538f3d9e43d87dca9e  ...  2007\n",
              "3  b80344d063b5ccb3212f76538f3d9e43d87dca9e  ...  2005\n",
              "4  b80344d063b5ccb3212f76538f3d9e43d87dca9e  ...  1999\n",
              "\n",
              "[5 rows x 7 columns]"
            ]
          },
          "metadata": {
            "tags": []
          },
          "execution_count": 50
        }
      ]
    },
    {
      "cell_type": "code",
      "metadata": {
        "colab": {
          "base_uri": "https://localhost:8080/"
        },
        "id": "hUsmbhjb_8bP",
        "outputId": "83bd8add-d2b9-4207-c91e-dac0ce9b5e47"
      },
      "source": [
        "len(song_df)"
      ],
      "execution_count": 51,
      "outputs": [
        {
          "output_type": "execute_result",
          "data": {
            "text/plain": [
              "2000000"
            ]
          },
          "metadata": {
            "tags": []
          },
          "execution_count": 51
        }
      ]
    },
    {
      "cell_type": "code",
      "metadata": {
        "id": "zNKlo8OSiWTx"
      },
      "source": [
        "#Creating a subset to ensure faster training\n",
        "song_df = song_df.head(10000)\n",
        "\n",
        "#merge song title and artist name columns\n",
        "song_df['song'] = song_df['title'].map(str) + \"-\" + song_df['artist_name']"
      ],
      "execution_count": 52,
      "outputs": []
    },
    {
      "cell_type": "code",
      "metadata": {
        "colab": {
          "base_uri": "https://localhost:8080/",
          "height": 419
        },
        "id": "3IrImq3QjGiB",
        "outputId": "43d26c08-80bc-4660-9f94-62b637de1733"
      },
      "source": [
        "#Showing the most popular songs in the dataset\n",
        "song_grouped = song_df.groupby(['song']).agg({'listen_count' : 'count'}).reset_index()\n",
        "grouped_sum = song_grouped['listen_count'].sum()\n",
        "song_grouped['percentage'] = song_grouped['listen_count'].div(grouped_sum) * 100\n",
        "song_grouped.sort_values(['listen_count', 'song'], ascending = [0,1])\n"
      ],
      "execution_count": 53,
      "outputs": [
        {
          "output_type": "execute_result",
          "data": {
            "text/html": [
              "<div>\n",
              "<style scoped>\n",
              "    .dataframe tbody tr th:only-of-type {\n",
              "        vertical-align: middle;\n",
              "    }\n",
              "\n",
              "    .dataframe tbody tr th {\n",
              "        vertical-align: top;\n",
              "    }\n",
              "\n",
              "    .dataframe thead th {\n",
              "        text-align: right;\n",
              "    }\n",
              "</style>\n",
              "<table border=\"1\" class=\"dataframe\">\n",
              "  <thead>\n",
              "    <tr style=\"text-align: right;\">\n",
              "      <th></th>\n",
              "      <th>song</th>\n",
              "      <th>listen_count</th>\n",
              "      <th>percentage</th>\n",
              "    </tr>\n",
              "  </thead>\n",
              "  <tbody>\n",
              "    <tr>\n",
              "      <th>3660</th>\n",
              "      <td>Sehr kosmisch-Harmonia</td>\n",
              "      <td>45</td>\n",
              "      <td>0.45</td>\n",
              "    </tr>\n",
              "    <tr>\n",
              "      <th>4678</th>\n",
              "      <td>Undo-Björk</td>\n",
              "      <td>32</td>\n",
              "      <td>0.32</td>\n",
              "    </tr>\n",
              "    <tr>\n",
              "      <th>5105</th>\n",
              "      <td>You're The One-Dwight Yoakam</td>\n",
              "      <td>32</td>\n",
              "      <td>0.32</td>\n",
              "    </tr>\n",
              "    <tr>\n",
              "      <th>1071</th>\n",
              "      <td>Dog Days Are Over (Radio Edit)-Florence + The ...</td>\n",
              "      <td>28</td>\n",
              "      <td>0.28</td>\n",
              "    </tr>\n",
              "    <tr>\n",
              "      <th>3655</th>\n",
              "      <td>Secrets-OneRepublic</td>\n",
              "      <td>28</td>\n",
              "      <td>0.28</td>\n",
              "    </tr>\n",
              "    <tr>\n",
              "      <th>...</th>\n",
              "      <td>...</td>\n",
              "      <td>...</td>\n",
              "      <td>...</td>\n",
              "    </tr>\n",
              "    <tr>\n",
              "      <th>5139</th>\n",
              "      <td>high fives-Four Tet</td>\n",
              "      <td>1</td>\n",
              "      <td>0.01</td>\n",
              "    </tr>\n",
              "    <tr>\n",
              "      <th>5140</th>\n",
              "      <td>in white rooms-Booka Shade</td>\n",
              "      <td>1</td>\n",
              "      <td>0.01</td>\n",
              "    </tr>\n",
              "    <tr>\n",
              "      <th>5143</th>\n",
              "      <td>paranoid android-Christopher O'Riley</td>\n",
              "      <td>1</td>\n",
              "      <td>0.01</td>\n",
              "    </tr>\n",
              "    <tr>\n",
              "      <th>5149</th>\n",
              "      <td>¿Lo Ves? [Piano Y Voz]-Alejandro Sanz</td>\n",
              "      <td>1</td>\n",
              "      <td>0.01</td>\n",
              "    </tr>\n",
              "    <tr>\n",
              "      <th>5150</th>\n",
              "      <td>Época-Gotan Project</td>\n",
              "      <td>1</td>\n",
              "      <td>0.01</td>\n",
              "    </tr>\n",
              "  </tbody>\n",
              "</table>\n",
              "<p>5151 rows × 3 columns</p>\n",
              "</div>"
            ],
            "text/plain": [
              "                                                   song  ...  percentage\n",
              "3660                             Sehr kosmisch-Harmonia  ...        0.45\n",
              "4678                                         Undo-Björk  ...        0.32\n",
              "5105                       You're The One-Dwight Yoakam  ...        0.32\n",
              "1071  Dog Days Are Over (Radio Edit)-Florence + The ...  ...        0.28\n",
              "3655                                Secrets-OneRepublic  ...        0.28\n",
              "...                                                 ...  ...         ...\n",
              "5139                                high fives-Four Tet  ...        0.01\n",
              "5140                         in white rooms-Booka Shade  ...        0.01\n",
              "5143               paranoid android-Christopher O'Riley  ...        0.01\n",
              "5149              ¿Lo Ves? [Piano Y Voz]-Alejandro Sanz  ...        0.01\n",
              "5150                                Época-Gotan Project  ...        0.01\n",
              "\n",
              "[5151 rows x 3 columns]"
            ]
          },
          "metadata": {
            "tags": []
          },
          "execution_count": 53
        }
      ]
    },
    {
      "cell_type": "code",
      "metadata": {
        "colab": {
          "base_uri": "https://localhost:8080/"
        },
        "id": "KIdlF2rYoEDr",
        "outputId": "35ae7127-c9e6-4b4f-bdd2-efbad047cec3"
      },
      "source": [
        "#No of unique users and songs in the dataset\n",
        "users = song_df['user_id'].unique()\n",
        "songs = song_df['song'].unique()\n",
        "print('Unique users', len(users))\n",
        "print('Unique songs', len(songs))"
      ],
      "execution_count": 54,
      "outputs": [
        {
          "output_type": "stream",
          "text": [
            "Unique users 365\n",
            "Unique songs 5151\n"
          ],
          "name": "stdout"
        }
      ]
    },
    {
      "cell_type": "code",
      "metadata": {
        "colab": {
          "base_uri": "https://localhost:8080/"
        },
        "id": "VdumMytbp2J8",
        "outputId": "05257149-0890-4a73-f79c-d49e0809de31"
      },
      "source": [
        "#Building the song recommender\n",
        "train_data, test_data = train_test_split(song_df, test_size = 0.20, random_state=0)\n",
        "print(train_data.head(5))"
      ],
      "execution_count": 55,
      "outputs": [
        {
          "output_type": "stream",
          "text": [
            "                                       user_id  ...                                 song\n",
            "7389  94d5bdc37683950e90c56c9b32721edb5d347600  ...          Half Of My Heart-John Mayer\n",
            "9275  1012ecfd277b96487ed8357d02fa8326b13696a5  ...  The Beautiful People-Marilyn Manson\n",
            "2995  15415fa2745b344bce958967c346f2a89f792f63  ...       Sanctify Yourself-Simple Minds\n",
            "5316  ffadf9297a99945c0513cd87939d91d8b602936b  ...       Heart Cooks Brain-Modest Mouse\n",
            "356   5a905f000fc1ff3df7ca807d57edb608863db05d  ...                Rorol-Octopus Project\n",
            "\n",
            "[5 rows x 8 columns]\n"
          ],
          "name": "stdout"
        }
      ]
    },
    {
      "cell_type": "code",
      "metadata": {
        "id": "aVkKS81wq3yc"
      },
      "source": [
        "#Popularity based song recommender\n",
        "\n",
        "pm = Recommenders.popularity_recommender_py()\n",
        "pm.create(train_data, 'user_id', 'song')"
      ],
      "execution_count": 56,
      "outputs": []
    },
    {
      "cell_type": "code",
      "metadata": {
        "colab": {
          "base_uri": "https://localhost:8080/",
          "height": 359
        },
        "id": "n19gxQCKrceL",
        "outputId": "9f3e0485-899f-4bd6-d58b-8c30de18dc6c"
      },
      "source": [
        "#Using pm to make predictions\n",
        "user_id = users[5]\n",
        "pm.recommend(user_id)"
      ],
      "execution_count": 57,
      "outputs": [
        {
          "output_type": "execute_result",
          "data": {
            "text/html": [
              "<div>\n",
              "<style scoped>\n",
              "    .dataframe tbody tr th:only-of-type {\n",
              "        vertical-align: middle;\n",
              "    }\n",
              "\n",
              "    .dataframe tbody tr th {\n",
              "        vertical-align: top;\n",
              "    }\n",
              "\n",
              "    .dataframe thead th {\n",
              "        text-align: right;\n",
              "    }\n",
              "</style>\n",
              "<table border=\"1\" class=\"dataframe\">\n",
              "  <thead>\n",
              "    <tr style=\"text-align: right;\">\n",
              "      <th></th>\n",
              "      <th>user_id</th>\n",
              "      <th>song</th>\n",
              "      <th>score</th>\n",
              "      <th>Rank</th>\n",
              "    </tr>\n",
              "  </thead>\n",
              "  <tbody>\n",
              "    <tr>\n",
              "      <th>3194</th>\n",
              "      <td>4bd88bfb25263a75bbdd467e74018f4ae570e5df</td>\n",
              "      <td>Sehr kosmisch-Harmonia</td>\n",
              "      <td>37</td>\n",
              "      <td>1.0</td>\n",
              "    </tr>\n",
              "    <tr>\n",
              "      <th>4083</th>\n",
              "      <td>4bd88bfb25263a75bbdd467e74018f4ae570e5df</td>\n",
              "      <td>Undo-Björk</td>\n",
              "      <td>27</td>\n",
              "      <td>2.0</td>\n",
              "    </tr>\n",
              "    <tr>\n",
              "      <th>931</th>\n",
              "      <td>4bd88bfb25263a75bbdd467e74018f4ae570e5df</td>\n",
              "      <td>Dog Days Are Over (Radio Edit)-Florence + The ...</td>\n",
              "      <td>24</td>\n",
              "      <td>3.0</td>\n",
              "    </tr>\n",
              "    <tr>\n",
              "      <th>4443</th>\n",
              "      <td>4bd88bfb25263a75bbdd467e74018f4ae570e5df</td>\n",
              "      <td>You're The One-Dwight Yoakam</td>\n",
              "      <td>24</td>\n",
              "      <td>4.0</td>\n",
              "    </tr>\n",
              "    <tr>\n",
              "      <th>3034</th>\n",
              "      <td>4bd88bfb25263a75bbdd467e74018f4ae570e5df</td>\n",
              "      <td>Revelry-Kings Of Leon</td>\n",
              "      <td>21</td>\n",
              "      <td>5.0</td>\n",
              "    </tr>\n",
              "    <tr>\n",
              "      <th>3189</th>\n",
              "      <td>4bd88bfb25263a75bbdd467e74018f4ae570e5df</td>\n",
              "      <td>Secrets-OneRepublic</td>\n",
              "      <td>21</td>\n",
              "      <td>6.0</td>\n",
              "    </tr>\n",
              "    <tr>\n",
              "      <th>4112</th>\n",
              "      <td>4bd88bfb25263a75bbdd467e74018f4ae570e5df</td>\n",
              "      <td>Use Somebody-Kings Of Leon</td>\n",
              "      <td>21</td>\n",
              "      <td>7.0</td>\n",
              "    </tr>\n",
              "    <tr>\n",
              "      <th>1207</th>\n",
              "      <td>4bd88bfb25263a75bbdd467e74018f4ae570e5df</td>\n",
              "      <td>Fireflies-Charttraxx Karaoke</td>\n",
              "      <td>20</td>\n",
              "      <td>8.0</td>\n",
              "    </tr>\n",
              "    <tr>\n",
              "      <th>1577</th>\n",
              "      <td>4bd88bfb25263a75bbdd467e74018f4ae570e5df</td>\n",
              "      <td>Hey_ Soul Sister-Train</td>\n",
              "      <td>19</td>\n",
              "      <td>9.0</td>\n",
              "    </tr>\n",
              "    <tr>\n",
              "      <th>1626</th>\n",
              "      <td>4bd88bfb25263a75bbdd467e74018f4ae570e5df</td>\n",
              "      <td>Horn Concerto No. 4 in E flat K495: II. Romanc...</td>\n",
              "      <td>19</td>\n",
              "      <td>10.0</td>\n",
              "    </tr>\n",
              "  </tbody>\n",
              "</table>\n",
              "</div>"
            ],
            "text/plain": [
              "                                       user_id  ...  Rank\n",
              "3194  4bd88bfb25263a75bbdd467e74018f4ae570e5df  ...   1.0\n",
              "4083  4bd88bfb25263a75bbdd467e74018f4ae570e5df  ...   2.0\n",
              "931   4bd88bfb25263a75bbdd467e74018f4ae570e5df  ...   3.0\n",
              "4443  4bd88bfb25263a75bbdd467e74018f4ae570e5df  ...   4.0\n",
              "3034  4bd88bfb25263a75bbdd467e74018f4ae570e5df  ...   5.0\n",
              "3189  4bd88bfb25263a75bbdd467e74018f4ae570e5df  ...   6.0\n",
              "4112  4bd88bfb25263a75bbdd467e74018f4ae570e5df  ...   7.0\n",
              "1207  4bd88bfb25263a75bbdd467e74018f4ae570e5df  ...   8.0\n",
              "1577  4bd88bfb25263a75bbdd467e74018f4ae570e5df  ...   9.0\n",
              "1626  4bd88bfb25263a75bbdd467e74018f4ae570e5df  ...  10.0\n",
              "\n",
              "[10 rows x 4 columns]"
            ]
          },
          "metadata": {
            "tags": []
          },
          "execution_count": 57
        }
      ]
    },
    {
      "cell_type": "code",
      "metadata": {
        "id": "uesgGgltriBT"
      },
      "source": [
        "#Personalised song recommender\n",
        "#Creating an instance of the personalized recommender class\n",
        "is_model = Recommenders.item_similarity_recommender_py() #Item similarity model\n",
        "is_model.create(train_data, 'user_id', 'song')"
      ],
      "execution_count": 58,
      "outputs": []
    },
    {
      "cell_type": "code",
      "metadata": {
        "colab": {
          "base_uri": "https://localhost:8080/",
          "height": 733
        },
        "id": "rTiR6WdOsWzR",
        "outputId": "0a3411bc-0fb9-4c92-b057-073deb54e94f"
      },
      "source": [
        "#Print the songs for the following user in training data\n",
        "user_id = users[5]\n",
        "user_items = is_model.get_user_items(user_id)\n",
        "\n",
        "print(\"------------------------------------------------------------------------------------\")\n",
        "print(\"Training data songs for the user userid: %s:\" % user_id)\n",
        "print(\"------------------------------------------------------------------------------------\")\n",
        "\n",
        "for user_item in user_items:\n",
        "    print(user_item)\n",
        "\n",
        "print(\"----------------------------------------------------------------------\")\n",
        "print(\"Recommendation process going on:\")\n",
        "print(\"----------------------------------------------------------------------\")\n",
        "\n",
        "#Recommend songs for the user using personalized model\n",
        "is_model.recommend(user_id)"
      ],
      "execution_count": 59,
      "outputs": [
        {
          "output_type": "stream",
          "text": [
            "------------------------------------------------------------------------------------\n",
            "Training data songs for the user userid: 4bd88bfb25263a75bbdd467e74018f4ae570e5df:\n",
            "------------------------------------------------------------------------------------\n",
            "Just Lose It-Eminem\n",
            "Without Me-Eminem\n",
            "16 Candles-The Crests\n",
            "Speechless-Lady GaGa\n",
            "Push It-Salt-N-Pepa\n",
            "Ghosts 'n' Stuff (Original Instrumental Mix)-Deadmau5\n",
            "Say My Name-Destiny's Child\n",
            "My Dad's Gone Crazy-Eminem / Hailie Jade\n",
            "The Real Slim Shady-Eminem\n",
            "Somebody To Love-Justin Bieber\n",
            "Forgive Me-Leona Lewis\n",
            "Missing You-John Waite\n",
            "Ya Nada Queda-Kudai\n",
            "----------------------------------------------------------------------\n",
            "Recommendation process going on:\n",
            "----------------------------------------------------------------------\n",
            "No. of unique songs for the user: 13\n",
            "no. of unique songs in the training set: 4483\n",
            "Non zero values in cooccurence_matrix :2097\n"
          ],
          "name": "stdout"
        },
        {
          "output_type": "execute_result",
          "data": {
            "text/html": [
              "<div>\n",
              "<style scoped>\n",
              "    .dataframe tbody tr th:only-of-type {\n",
              "        vertical-align: middle;\n",
              "    }\n",
              "\n",
              "    .dataframe tbody tr th {\n",
              "        vertical-align: top;\n",
              "    }\n",
              "\n",
              "    .dataframe thead th {\n",
              "        text-align: right;\n",
              "    }\n",
              "</style>\n",
              "<table border=\"1\" class=\"dataframe\">\n",
              "  <thead>\n",
              "    <tr style=\"text-align: right;\">\n",
              "      <th></th>\n",
              "      <th>user_id</th>\n",
              "      <th>song</th>\n",
              "      <th>score</th>\n",
              "      <th>rank</th>\n",
              "    </tr>\n",
              "  </thead>\n",
              "  <tbody>\n",
              "    <tr>\n",
              "      <th>0</th>\n",
              "      <td>4bd88bfb25263a75bbdd467e74018f4ae570e5df</td>\n",
              "      <td>Superman-Eminem / Dina Rae</td>\n",
              "      <td>0.088692</td>\n",
              "      <td>1</td>\n",
              "    </tr>\n",
              "    <tr>\n",
              "      <th>1</th>\n",
              "      <td>4bd88bfb25263a75bbdd467e74018f4ae570e5df</td>\n",
              "      <td>Mockingbird-Eminem</td>\n",
              "      <td>0.067663</td>\n",
              "      <td>2</td>\n",
              "    </tr>\n",
              "    <tr>\n",
              "      <th>2</th>\n",
              "      <td>4bd88bfb25263a75bbdd467e74018f4ae570e5df</td>\n",
              "      <td>I'm Back-Eminem</td>\n",
              "      <td>0.065385</td>\n",
              "      <td>3</td>\n",
              "    </tr>\n",
              "    <tr>\n",
              "      <th>3</th>\n",
              "      <td>4bd88bfb25263a75bbdd467e74018f4ae570e5df</td>\n",
              "      <td>U Smile-Justin Bieber</td>\n",
              "      <td>0.064525</td>\n",
              "      <td>4</td>\n",
              "    </tr>\n",
              "    <tr>\n",
              "      <th>4</th>\n",
              "      <td>4bd88bfb25263a75bbdd467e74018f4ae570e5df</td>\n",
              "      <td>Here Without You-3 Doors Down</td>\n",
              "      <td>0.062293</td>\n",
              "      <td>5</td>\n",
              "    </tr>\n",
              "    <tr>\n",
              "      <th>5</th>\n",
              "      <td>4bd88bfb25263a75bbdd467e74018f4ae570e5df</td>\n",
              "      <td>Hellbound-J-Black &amp; Masta Ace</td>\n",
              "      <td>0.055769</td>\n",
              "      <td>6</td>\n",
              "    </tr>\n",
              "    <tr>\n",
              "      <th>6</th>\n",
              "      <td>4bd88bfb25263a75bbdd467e74018f4ae570e5df</td>\n",
              "      <td>The Seed (2.0)-The Roots / Cody Chestnutt</td>\n",
              "      <td>0.052564</td>\n",
              "      <td>7</td>\n",
              "    </tr>\n",
              "    <tr>\n",
              "      <th>7</th>\n",
              "      <td>4bd88bfb25263a75bbdd467e74018f4ae570e5df</td>\n",
              "      <td>I'm The One Who Understands (Edit Version)-War</td>\n",
              "      <td>0.052564</td>\n",
              "      <td>8</td>\n",
              "    </tr>\n",
              "    <tr>\n",
              "      <th>8</th>\n",
              "      <td>4bd88bfb25263a75bbdd467e74018f4ae570e5df</td>\n",
              "      <td>Falling-Iration</td>\n",
              "      <td>0.052564</td>\n",
              "      <td>9</td>\n",
              "    </tr>\n",
              "    <tr>\n",
              "      <th>9</th>\n",
              "      <td>4bd88bfb25263a75bbdd467e74018f4ae570e5df</td>\n",
              "      <td>Armed And Ready (2009 Digital Remaster)-The Mi...</td>\n",
              "      <td>0.052564</td>\n",
              "      <td>10</td>\n",
              "    </tr>\n",
              "  </tbody>\n",
              "</table>\n",
              "</div>"
            ],
            "text/plain": [
              "                                    user_id  ... rank\n",
              "0  4bd88bfb25263a75bbdd467e74018f4ae570e5df  ...    1\n",
              "1  4bd88bfb25263a75bbdd467e74018f4ae570e5df  ...    2\n",
              "2  4bd88bfb25263a75bbdd467e74018f4ae570e5df  ...    3\n",
              "3  4bd88bfb25263a75bbdd467e74018f4ae570e5df  ...    4\n",
              "4  4bd88bfb25263a75bbdd467e74018f4ae570e5df  ...    5\n",
              "5  4bd88bfb25263a75bbdd467e74018f4ae570e5df  ...    6\n",
              "6  4bd88bfb25263a75bbdd467e74018f4ae570e5df  ...    7\n",
              "7  4bd88bfb25263a75bbdd467e74018f4ae570e5df  ...    8\n",
              "8  4bd88bfb25263a75bbdd467e74018f4ae570e5df  ...    9\n",
              "9  4bd88bfb25263a75bbdd467e74018f4ae570e5df  ...   10\n",
              "\n",
              "[10 rows x 4 columns]"
            ]
          },
          "metadata": {
            "tags": []
          },
          "execution_count": 59
        }
      ]
    },
    {
      "cell_type": "code",
      "metadata": {
        "colab": {
          "base_uri": "https://localhost:8080/",
          "height": 903
        },
        "id": "ARHUrzgaslO7",
        "outputId": "bf0ddfc9-42e6-483c-9272-982cc88aef87"
      },
      "source": [
        "#Print the songs for the following user in training data. Note the difference in\n",
        "#songs recommended for both users\n",
        "user_id = users[17]\n",
        "user_items = is_model.get_user_items(user_id)\n",
        "\n",
        "print(\"------------------------------------------------------------------------------------\")\n",
        "print(\"Training data songs for the user userid: %s:\" % user_id)\n",
        "print(\"------------------------------------------------------------------------------------\")\n",
        "\n",
        "for user_item in user_items:\n",
        "    print(user_item)\n",
        "\n",
        "print(\"----------------------------------------------------------------------\")\n",
        "print(\"Recommendation process going on:\")\n",
        "print(\"----------------------------------------------------------------------\")\n",
        "\n",
        "#Recommend songs for the user using personalized model\n",
        "is_model.recommend(user_id)"
      ],
      "execution_count": 60,
      "outputs": [
        {
          "output_type": "stream",
          "text": [
            "------------------------------------------------------------------------------------\n",
            "Training data songs for the user userid: 169f9f4c68b62d1887c7c0ac99d10a79cfca5daf:\n",
            "------------------------------------------------------------------------------------\n",
            "Secrets-OneRepublic\n",
            "Uprising-Muse\n",
            "A-Punk (Album)-Vampire Weekend\n",
            "Time To Pretend-MGMT\n",
            "What You Know-Two Door Cinema Club\n",
            "Times Like These-Jack Johnson\n",
            "Vanilla Twilight-Owl City\n",
            "The Funeral (Album Version)-Band Of Horses\n",
            "Oxford Comma (Album)-Vampire Weekend\n",
            "Electric Feel-MGMT\n",
            "Gold Guns Girls-Metric\n",
            "Teach Me How To Dougie-California Swag District\n",
            "Bleed It Out [Live At Milton Keynes]-Linkin Park\n",
            "Do You Remember-Jack Johnson\n",
            "Tim McGraw-Taylor Swift\n",
            "Breakeven-The Script\n",
            "Home-Edward Sharpe & The Magnetic Zeros\n",
            "If It Means A Lot To You-A Day To Remember\n",
            "Head Full Of Doubt/Road Full Of Promise-The Avett Brothers\n",
            "Pursuit Of Happiness (nightmare)-Kid Cudi / MGMT / Ratatat\n",
            "Ain't No Rest For The Wicked (Original Version)-Cage The Elephant\n",
            "Float On-Modest Mouse\n",
            "Bad Company-Five Finger Death Punch\n",
            "----------------------------------------------------------------------\n",
            "Recommendation process going on:\n",
            "----------------------------------------------------------------------\n",
            "No. of unique songs for the user: 23\n",
            "no. of unique songs in the training set: 4483\n",
            "Non zero values in cooccurence_matrix :6773\n"
          ],
          "name": "stdout"
        },
        {
          "output_type": "execute_result",
          "data": {
            "text/html": [
              "<div>\n",
              "<style scoped>\n",
              "    .dataframe tbody tr th:only-of-type {\n",
              "        vertical-align: middle;\n",
              "    }\n",
              "\n",
              "    .dataframe tbody tr th {\n",
              "        vertical-align: top;\n",
              "    }\n",
              "\n",
              "    .dataframe thead th {\n",
              "        text-align: right;\n",
              "    }\n",
              "</style>\n",
              "<table border=\"1\" class=\"dataframe\">\n",
              "  <thead>\n",
              "    <tr style=\"text-align: right;\">\n",
              "      <th></th>\n",
              "      <th>user_id</th>\n",
              "      <th>song</th>\n",
              "      <th>score</th>\n",
              "      <th>rank</th>\n",
              "    </tr>\n",
              "  </thead>\n",
              "  <tbody>\n",
              "    <tr>\n",
              "      <th>0</th>\n",
              "      <td>169f9f4c68b62d1887c7c0ac99d10a79cfca5daf</td>\n",
              "      <td>Here Without You-3 Doors Down</td>\n",
              "      <td>0.178093</td>\n",
              "      <td>1</td>\n",
              "    </tr>\n",
              "    <tr>\n",
              "      <th>1</th>\n",
              "      <td>169f9f4c68b62d1887c7c0ac99d10a79cfca5daf</td>\n",
              "      <td>Heads Will Roll-Yeah Yeah Yeahs</td>\n",
              "      <td>0.171382</td>\n",
              "      <td>2</td>\n",
              "    </tr>\n",
              "    <tr>\n",
              "      <th>2</th>\n",
              "      <td>169f9f4c68b62d1887c7c0ac99d10a79cfca5daf</td>\n",
              "      <td>Heartbreak Warfare-John Mayer</td>\n",
              "      <td>0.170225</td>\n",
              "      <td>3</td>\n",
              "    </tr>\n",
              "    <tr>\n",
              "      <th>3</th>\n",
              "      <td>169f9f4c68b62d1887c7c0ac99d10a79cfca5daf</td>\n",
              "      <td>One Less Lonely Girl-Justin Bieber</td>\n",
              "      <td>0.167876</td>\n",
              "      <td>4</td>\n",
              "    </tr>\n",
              "    <tr>\n",
              "      <th>4</th>\n",
              "      <td>169f9f4c68b62d1887c7c0ac99d10a79cfca5daf</td>\n",
              "      <td>U Smile-Justin Bieber</td>\n",
              "      <td>0.167533</td>\n",
              "      <td>5</td>\n",
              "    </tr>\n",
              "    <tr>\n",
              "      <th>5</th>\n",
              "      <td>169f9f4c68b62d1887c7c0ac99d10a79cfca5daf</td>\n",
              "      <td>Love Me-Justin Bieber</td>\n",
              "      <td>0.166941</td>\n",
              "      <td>6</td>\n",
              "    </tr>\n",
              "    <tr>\n",
              "      <th>6</th>\n",
              "      <td>169f9f4c68b62d1887c7c0ac99d10a79cfca5daf</td>\n",
              "      <td>One Time-Justin Bieber</td>\n",
              "      <td>0.166941</td>\n",
              "      <td>7</td>\n",
              "    </tr>\n",
              "    <tr>\n",
              "      <th>7</th>\n",
              "      <td>169f9f4c68b62d1887c7c0ac99d10a79cfca5daf</td>\n",
              "      <td>Stuck In The Moment-Justin Bieber</td>\n",
              "      <td>0.166941</td>\n",
              "      <td>8</td>\n",
              "    </tr>\n",
              "    <tr>\n",
              "      <th>8</th>\n",
              "      <td>169f9f4c68b62d1887c7c0ac99d10a79cfca5daf</td>\n",
              "      <td>Half Of My Heart-John Mayer</td>\n",
              "      <td>0.150179</td>\n",
              "      <td>9</td>\n",
              "    </tr>\n",
              "    <tr>\n",
              "      <th>9</th>\n",
              "      <td>169f9f4c68b62d1887c7c0ac99d10a79cfca5daf</td>\n",
              "      <td>The Saltwater Room-Owl City</td>\n",
              "      <td>0.143430</td>\n",
              "      <td>10</td>\n",
              "    </tr>\n",
              "  </tbody>\n",
              "</table>\n",
              "</div>"
            ],
            "text/plain": [
              "                                    user_id  ... rank\n",
              "0  169f9f4c68b62d1887c7c0ac99d10a79cfca5daf  ...    1\n",
              "1  169f9f4c68b62d1887c7c0ac99d10a79cfca5daf  ...    2\n",
              "2  169f9f4c68b62d1887c7c0ac99d10a79cfca5daf  ...    3\n",
              "3  169f9f4c68b62d1887c7c0ac99d10a79cfca5daf  ...    4\n",
              "4  169f9f4c68b62d1887c7c0ac99d10a79cfca5daf  ...    5\n",
              "5  169f9f4c68b62d1887c7c0ac99d10a79cfca5daf  ...    6\n",
              "6  169f9f4c68b62d1887c7c0ac99d10a79cfca5daf  ...    7\n",
              "7  169f9f4c68b62d1887c7c0ac99d10a79cfca5daf  ...    8\n",
              "8  169f9f4c68b62d1887c7c0ac99d10a79cfca5daf  ...    9\n",
              "9  169f9f4c68b62d1887c7c0ac99d10a79cfca5daf  ...   10\n",
              "\n",
              "[10 rows x 4 columns]"
            ]
          },
          "metadata": {
            "tags": []
          },
          "execution_count": 60
        }
      ]
    },
    {
      "cell_type": "code",
      "metadata": {
        "colab": {
          "base_uri": "https://localhost:8080/",
          "height": 393
        },
        "id": "zG_O98CGuE77",
        "outputId": "bb4072ed-1a87-4f15-dc87-7b156ba32d7a"
      },
      "source": [
        "#Finding songs similar to a particular song\n",
        "\n",
        "is_model.get_similar_items(['Half Of My Heart-John Mayer'])"
      ],
      "execution_count": 61,
      "outputs": [
        {
          "output_type": "stream",
          "text": [
            "no. of unique songs in the training set: 4483\n",
            "Non zero values in cooccurence_matrix :377\n"
          ],
          "name": "stdout"
        },
        {
          "output_type": "execute_result",
          "data": {
            "text/html": [
              "<div>\n",
              "<style scoped>\n",
              "    .dataframe tbody tr th:only-of-type {\n",
              "        vertical-align: middle;\n",
              "    }\n",
              "\n",
              "    .dataframe tbody tr th {\n",
              "        vertical-align: top;\n",
              "    }\n",
              "\n",
              "    .dataframe thead th {\n",
              "        text-align: right;\n",
              "    }\n",
              "</style>\n",
              "<table border=\"1\" class=\"dataframe\">\n",
              "  <thead>\n",
              "    <tr style=\"text-align: right;\">\n",
              "      <th></th>\n",
              "      <th>user_id</th>\n",
              "      <th>song</th>\n",
              "      <th>score</th>\n",
              "      <th>rank</th>\n",
              "    </tr>\n",
              "  </thead>\n",
              "  <tbody>\n",
              "    <tr>\n",
              "      <th>0</th>\n",
              "      <td></td>\n",
              "      <td>The Funeral (Album Version)-Band Of Horses</td>\n",
              "      <td>0.500000</td>\n",
              "      <td>1</td>\n",
              "    </tr>\n",
              "    <tr>\n",
              "      <th>1</th>\n",
              "      <td></td>\n",
              "      <td>Love Me-Justin Bieber</td>\n",
              "      <td>0.400000</td>\n",
              "      <td>2</td>\n",
              "    </tr>\n",
              "    <tr>\n",
              "      <th>2</th>\n",
              "      <td></td>\n",
              "      <td>Perfectly Lonely-John Mayer</td>\n",
              "      <td>0.400000</td>\n",
              "      <td>3</td>\n",
              "    </tr>\n",
              "    <tr>\n",
              "      <th>3</th>\n",
              "      <td></td>\n",
              "      <td>One Time-Justin Bieber</td>\n",
              "      <td>0.400000</td>\n",
              "      <td>4</td>\n",
              "    </tr>\n",
              "    <tr>\n",
              "      <th>4</th>\n",
              "      <td></td>\n",
              "      <td>Stuck In The Moment-Justin Bieber</td>\n",
              "      <td>0.400000</td>\n",
              "      <td>5</td>\n",
              "    </tr>\n",
              "    <tr>\n",
              "      <th>5</th>\n",
              "      <td></td>\n",
              "      <td>Why Can't This Be Love (Remastered Version)-Va...</td>\n",
              "      <td>0.400000</td>\n",
              "      <td>6</td>\n",
              "    </tr>\n",
              "    <tr>\n",
              "      <th>6</th>\n",
              "      <td></td>\n",
              "      <td>Highway 20 Ride (Album)-Zac Brown Band</td>\n",
              "      <td>0.400000</td>\n",
              "      <td>7</td>\n",
              "    </tr>\n",
              "    <tr>\n",
              "      <th>7</th>\n",
              "      <td></td>\n",
              "      <td>Here Without You-3 Doors Down</td>\n",
              "      <td>0.375000</td>\n",
              "      <td>8</td>\n",
              "    </tr>\n",
              "    <tr>\n",
              "      <th>8</th>\n",
              "      <td></td>\n",
              "      <td>One Less Lonely Girl-Justin Bieber</td>\n",
              "      <td>0.333333</td>\n",
              "      <td>9</td>\n",
              "    </tr>\n",
              "    <tr>\n",
              "      <th>9</th>\n",
              "      <td></td>\n",
              "      <td>My First Kiss (Feat. Ke$ha) [Album Version]-3OH!3</td>\n",
              "      <td>0.333333</td>\n",
              "      <td>10</td>\n",
              "    </tr>\n",
              "  </tbody>\n",
              "</table>\n",
              "</div>"
            ],
            "text/plain": [
              "  user_id                                               song     score rank\n",
              "0                 The Funeral (Album Version)-Band Of Horses  0.500000    1\n",
              "1                                      Love Me-Justin Bieber  0.400000    2\n",
              "2                                Perfectly Lonely-John Mayer  0.400000    3\n",
              "3                                     One Time-Justin Bieber  0.400000    4\n",
              "4                          Stuck In The Moment-Justin Bieber  0.400000    5\n",
              "5          Why Can't This Be Love (Remastered Version)-Va...  0.400000    6\n",
              "6                     Highway 20 Ride (Album)-Zac Brown Band  0.400000    7\n",
              "7                              Here Without You-3 Doors Down  0.375000    8\n",
              "8                         One Less Lonely Girl-Justin Bieber  0.333333    9\n",
              "9          My First Kiss (Feat. Ke$ha) [Album Version]-3OH!3  0.333333   10"
            ]
          },
          "metadata": {
            "tags": []
          },
          "execution_count": 61
        }
      ]
    },
    {
      "cell_type": "code",
      "metadata": {
        "colab": {
          "base_uri": "https://localhost:8080/"
        },
        "id": "fBrSaBuKuTjh",
        "outputId": "432675c2-cf12-4d45-dd1c-23147e666027"
      },
      "source": [
        "#Using precision and recall to calculate ecaluation measures\n",
        "\n",
        "start = time.time()\n",
        "\n",
        "#Define what percentage of users to use for precision recall calculation\n",
        "user_sample = 0.05\n",
        "\n",
        "#Instantiate the precision_recall_calculator class\n",
        "pr = Evaluation.precision_recall_calculator(test_data, train_data, pm, is_model)\n",
        "\n",
        "#Call method to calculate precision and recall values\n",
        "(pm_avg_precision_list, pm_avg_recall_list, ism_avg_precision_list, ism_avg_recall_list) = pr.calculate_measures(user_sample)\n",
        "\n",
        "end = time.time()\n",
        "print(end - start)"
      ],
      "execution_count": 62,
      "outputs": [
        {
          "output_type": "stream",
          "text": [
            "Length of user_test_and_training:319\n",
            "Length of user sample:15\n",
            "Getting recommendations for user:c5d42aa00afa6889de703c49f40ecb26b1c401c4\n",
            "No. of unique songs for the user: 36\n",
            "no. of unique songs in the training set: 4483\n",
            "Non zero values in cooccurence_matrix :2994\n",
            "Getting recommendations for user:3f152d355d53865a2ca27ac5ceeffb7ebaea0a26\n",
            "No. of unique songs for the user: 53\n",
            "no. of unique songs in the training set: 4483\n",
            "Non zero values in cooccurence_matrix :5331\n",
            "Getting recommendations for user:8dcb524ff75e0ad0f0a80aaccadf7bbaa3b89a41\n",
            "No. of unique songs for the user: 67\n",
            "no. of unique songs in the training set: 4483\n",
            "Non zero values in cooccurence_matrix :12668\n",
            "Getting recommendations for user:ca80fbb6d0deb3cae53763099e2cae7306f005ec\n",
            "No. of unique songs for the user: 33\n",
            "no. of unique songs in the training set: 4483\n",
            "Non zero values in cooccurence_matrix :2250\n",
            "Getting recommendations for user:66166f4f57bb897f1f8e2aae6f53f776088f43d8\n",
            "No. of unique songs for the user: 7\n",
            "no. of unique songs in the training set: 4483\n",
            "Non zero values in cooccurence_matrix :195\n",
            "Getting recommendations for user:9d84d1bcfde6464c02561fbb5dcb294678778b25\n",
            "No. of unique songs for the user: 11\n",
            "no. of unique songs in the training set: 4483\n",
            "Non zero values in cooccurence_matrix :984\n",
            "Getting recommendations for user:e6fbcdd689ac0e85992536933f1f86503310447f\n",
            "No. of unique songs for the user: 17\n",
            "no. of unique songs in the training set: 4483\n",
            "Non zero values in cooccurence_matrix :1175\n",
            "Getting recommendations for user:c1fc436b58e28b3e3f1b43a4e955baa19d8a69ba\n",
            "No. of unique songs for the user: 13\n",
            "no. of unique songs in the training set: 4483\n",
            "Non zero values in cooccurence_matrix :1440\n",
            "Getting recommendations for user:e507a8acd03bbd1f6c2088bd70a0ab2ffb277cd7\n",
            "No. of unique songs for the user: 5\n",
            "no. of unique songs in the training set: 4483\n",
            "Non zero values in cooccurence_matrix :215\n",
            "Getting recommendations for user:8ee90038724c4957eb4df16f3e9c6ed2b570a3ec\n",
            "No. of unique songs for the user: 20\n",
            "no. of unique songs in the training set: 4483\n",
            "Non zero values in cooccurence_matrix :752\n",
            "Getting recommendations for user:e6b4dbf8e48346fbfd233fa96cdf5daee25ae77c\n",
            "No. of unique songs for the user: 10\n",
            "no. of unique songs in the training set: 4483\n",
            "Non zero values in cooccurence_matrix :845\n",
            "Getting recommendations for user:f28f980d8842ebfaa31e8fb3939aace4a43a18ec\n",
            "No. of unique songs for the user: 20\n",
            "no. of unique songs in the training set: 4483\n",
            "Non zero values in cooccurence_matrix :1406\n",
            "Getting recommendations for user:0dd93f61fe69f292ac336715ef607214efb3dbaa\n",
            "No. of unique songs for the user: 39\n",
            "no. of unique songs in the training set: 4483\n",
            "Non zero values in cooccurence_matrix :11680\n",
            "Getting recommendations for user:78e0065cacc15d6329be91b77045f12ab18cbea5\n",
            "No. of unique songs for the user: 9\n",
            "no. of unique songs in the training set: 4483\n",
            "Non zero values in cooccurence_matrix :215\n",
            "Getting recommendations for user:d775b2f1e62284a3ff407b91fe53d08525f6f086\n",
            "No. of unique songs for the user: 12\n",
            "no. of unique songs in the training set: 4483\n",
            "Non zero values in cooccurence_matrix :579\n",
            "70.39818668365479\n"
          ],
          "name": "stdout"
        }
      ]
    },
    {
      "cell_type": "code",
      "metadata": {
        "id": "2uSYMp9muvn-"
      },
      "source": [
        "#Function to plot precision recall curve\n",
        "import pylab as pl\n",
        "\n",
        "#Method to generate precision and recall curve\n",
        "def plot_precision_recall(m1_precision_list, m1_recall_list, m1_label, m2_precision_list, m2_recall_list, m2_label):\n",
        "    pl.clf()    \n",
        "    pl.plot(m1_recall_list, m1_precision_list, label=m1_label)\n",
        "    pl.plot(m2_recall_list, m2_precision_list, label=m2_label)\n",
        "    pl.xlabel('Recall')\n",
        "    pl.ylabel('Precision')\n",
        "    pl.ylim([0.0, 0.20])\n",
        "    pl.xlim([0.0, 0.20])\n",
        "    pl.title('Precision-Recall curve')\n",
        "    #pl.legend(loc=\"upper right\")\n",
        "    pl.legend(loc=9, bbox_to_anchor=(0.5, -0.2))\n",
        "    pl.show()\n",
        "\n"
      ],
      "execution_count": 63,
      "outputs": []
    },
    {
      "cell_type": "code",
      "metadata": {
        "colab": {
          "base_uri": "https://localhost:8080/",
          "height": 365
        },
        "id": "ZOMeIx86wjao",
        "outputId": "e6f90f24-173b-4df0-d028-7715718d9514"
      },
      "source": [
        "print(\"Plotting precision recall curves.\")\n",
        "\n",
        "plot_precision_recall(pm_avg_precision_list, pm_avg_recall_list, \"popularity_model\",\n",
        "                      ism_avg_precision_list, ism_avg_recall_list, \"item_similarity_model\")"
      ],
      "execution_count": 64,
      "outputs": [
        {
          "output_type": "stream",
          "text": [
            "Plotting precision recall curves.\n"
          ],
          "name": "stdout"
        },
        {
          "output_type": "display_data",
          "data": {
            "image/png": "[encoded data removed]",
            "text/plain": [
              "<Figure size 432x288 with 1 Axes>"
            ]
          },
          "metadata": {
            "tags": [],
            "needs_background": "light"
          }
        }
      ]
    },
    {
      "cell_type": "code",
      "metadata": {
        "colab": {
          "base_uri": "https://localhost:8080/",
          "height": 365
        },
        "id": "J2Qc9L8mwrH-",
        "outputId": "010d769e-2c76-4e21-ce8d-ce09233046a8"
      },
      "source": [
        "#Generating precision and recall on a larger subset of data\n",
        "#Read the persisted files \n",
        "pm_avg_precision_list = joblib.load('pm_avg_precision_list_3.pkl')\n",
        "pm_avg_recall_list = joblib.load('pm_avg_recall_list_3.pkl')\n",
        "ism_avg_precision_list = joblib.load('ism_avg_precision_list_3.pkl')\n",
        "ism_avg_recall_list = joblib.load('ism_avg_recall_list_3.pkl')\n",
        "\n",
        "print(\"Plotting precision recall curves.\")\n",
        "plot_precision_recall(pm_avg_precision_list, pm_avg_recall_list, \"popularity_model\",\n",
        "                      ism_avg_precision_list, ism_avg_recall_list, \"item_similarity_model\")\n"
      ],
      "execution_count": 65,
      "outputs": [
        {
          "output_type": "stream",
          "text": [
            "Plotting precision recall curves.\n"
          ],
          "name": "stdout"
        },
        {
          "output_type": "display_data",
          "data": {
            "image/png": "[encoded data removed]",
            "text/plain": [
              "<Figure size 432x288 with 1 Axes>"
            ]
          },
          "metadata": {
            "tags": [],
            "needs_background": "light"
          }
        }
      ]
    },
    {
      "cell_type": "code",
      "metadata": {
        "colab": {
          "base_uri": "https://localhost:8080/",
          "height": 382
        },
        "id": "GecZnxmVzVwJ",
        "outputId": "ddc211b1-e457-4a5a-f800-6516740f4bac"
      },
      "source": [
        "print(\"Plotting precision recall curves for a larger subset of data (100,000 rows) (user sample = 0.005).\")\n",
        "\n",
        "pm_avg_precision_list = joblib.load('pm_avg_precision_list_2.pkl')\n",
        "pm_avg_recall_list = joblib.load('pm_avg_recall_list_2.pkl')\n",
        "ism_avg_precision_list = joblib.load('ism_avg_precision_list_2.pkl')\n",
        "ism_avg_recall_list = joblib.load('ism_avg_recall_list_2.pkl')\n",
        "\n",
        "print(\"Plotting precision recall curves.\")\n",
        "plot_precision_recall(pm_avg_precision_list, pm_avg_recall_list, \"popularity_model\",\n",
        "                      ism_avg_precision_list, ism_avg_recall_list, \"item_similarity_model\")"
      ],
      "execution_count": 66,
      "outputs": [
        {
          "output_type": "stream",
          "text": [
            "Plotting precision recall curves for a larger subset of data (100,000 rows) (user sample = 0.005).\n",
            "Plotting precision recall curves.\n"
          ],
          "name": "stdout"
        },
        {
          "output_type": "display_data",
          "data": {
            "image/png": "[encoded data removed]",
            "text/plain": [
              "<Figure size 432x288 with 1 Axes>"
            ]
          },
          "metadata": {
            "tags": [],
            "needs_background": "light"
          }
        }
      ]
    },
    {
      "cell_type": "code",
      "metadata": {
        "id": "h20nKcHC01j3"
      },
      "source": [
        "#Popularity model simply recommends top 10 songs to every user based on\n",
        "#listen_count whereas the is_model gives personalilzed recommendation to\n",
        "#every user and hence, we can see in the above graphs that it's performance\n",
        "#is better than the popularity model"
      ],
      "execution_count": 67,
      "outputs": []
    },
    {
      "cell_type": "code",
      "metadata": {
        "id": "r7KvqI9g3nYk"
      },
      "source": [
        ""
      ],
      "execution_count": null,
      "outputs": []
    }
  ]
}